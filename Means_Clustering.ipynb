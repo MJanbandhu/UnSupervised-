{
  "cells": [
    {
      "cell_type": "markdown",
      "metadata": {
        "id": "view-in-github",
        "colab_type": "text"
      },
      "source": [
        "<a href=\"https://colab.research.google.com/github/MJanbandhu/UnSupervised-/blob/main/Means_Clustering.ipynb\" target=\"_parent\"><img src=\"https://colab.research.google.com/assets/colab-badge.svg\" alt=\"Open In Colab\"/></a>"
      ]
    },
    {
      "cell_type": "markdown",
      "metadata": {
        "id": "9YqaE2-eQ5iz"
      },
      "source": [
        "## Clustering\n",
        "\n",
        "Let’s suppose we give a child different objects to group. How does a child make a group? The child may group over the colour, over the shape, over the hardness or softness of the objects etc. The basic idea here is that the child tries to find out similarities and dissimilarities between different objects and then tries to make a group of similar objects. This is called **clustering**, the method of identifying similar instances and keeping them together.\n",
        "In Other words, clustering identifies homogeneous subgroups among the observations.\n",
        "\n",
        "\n",
        "Clustering is an unsupervised approach which finds a structure/pattern in a collection of unlabeled data.\n",
        "A cluster is a collection of objects which are “similar” amongst themselves and are “dissimilar” to the objects belonging to a different cluster.\n",
        "For example:\n",
        "\n",
        "\n",
        "<img src=\"https://summerofhpc.prace-ri.eu/wp-content/uploads/2013/07/k-means_ilustration.png\">\n",
        "\n",
        "\n",
        "In the figure above, we can easily identify 4 different clusters. The clustering criteria here is distance. Whichever points are near to each other are kept in the same cluster and the faraway points belong to a different cluster"
      ]
    },
    {
      "cell_type": "markdown",
      "metadata": {
        "id": "yGTXuo4dQ5i7"
      },
      "source": [
        "# KMeans Clustering\n",
        "\n",
        "It is an unsupervised technique used to identify clusters of data objects in the dataset. K specifies the number of clusters.\n",
        "\n",
        "Steps involved in K-Means Algorithm:\n",
        "\n",
        "1. Initially choose the number of K clusters.\n",
        "\n",
        "2. Start with K centroids by putting them at random place (not necessarily from your dataset). **A centroid is a data point (imaginary or real) at the center of a cluster.**\n",
        "\n",
        "3. Assign each point to the closest centroid. That forms k cluster. Compute distance of every point from centroid.\n",
        "\n",
        "4. Compute and place the new centroid for each cluster ie., calculate the mean value of the objects for each cluster and update the cluster mean.\n",
        "\n",
        "5. Repeat the process again ie., reassign each data point to the new closest centroid. If any reassignment took place, go to step 4. But if there is no change ie., when clusters form a clear boundary, then stop.\n",
        "\n",
        "\n",
        "\n"
      ]
    },
    {
      "cell_type": "markdown",
      "metadata": {
        "id": "uGIONjWiVPB8"
      },
      "source": [
        "![k%20means%20centroid.webp](attachment:k%20means%20centroid.webp)"
      ]
    },
    {
      "cell_type": "markdown",
      "metadata": {
        "id": "IbQhJqhHVPB_"
      },
      "source": [
        "# centroid distance"
      ]
    },
    {
      "cell_type": "markdown",
      "metadata": {
        "id": "gGbY1iVhVPCF"
      },
      "source": [
        "![k%20means%20centroid%20dist.png](attachment:k%20means%20centroid%20dist.png)"
      ]
    },
    {
      "cell_type": "markdown",
      "metadata": {
        "id": "jCrCrAsuQ5jW"
      },
      "source": [
        "# Elbow Technique"
      ]
    },
    {
      "cell_type": "markdown",
      "metadata": {
        "id": "-1cObXlDQ5jY"
      },
      "source": [
        "Elbow method is the most popular method that is used to determine the optimal value of k.\n",
        "\n",
        "**How it works?**\n",
        "\n",
        "- Start with some K.\n",
        "- Calculate WCSS (Within Cluster Sum of squared errors) ie., for each of the cluster, it calculate the distance of individual data points from the centroid, then square it and sum it up.\n",
        "             WCSS = WCSS1 + WCSS2 + ..... WCSSk\n",
        "             \n",
        "- Take new value for K, repeat step2.\n",
        "- For each number of K, WCSS is calculated.\n",
        "- Find the elbow point. That is the optimal value of K.\n",
        "\n",
        "[WCSS.png](attachment:WCSS.png)\n",
        " As the number of K increases, the error reduces.\n",
        "\n"
      ]
    },
    {
      "cell_type": "markdown",
      "metadata": {
        "id": "D7QeKJWIVPCM"
      },
      "source": [
        "![image.png](attachment:image.png)"
      ]
    },
    {
      "cell_type": "raw",
      "metadata": {
        "id": "hFSfGF35VPCR"
      },
      "source": [
        "To determine the optimal number of clusters, we have to select the value of k at the \"elbow\" i.e. the point after which\n",
        "the distortion/inertia start decreasing in a linear fashion."
      ]
    },
    {
      "cell_type": "code",
      "execution_count": null,
      "metadata": {
        "id": "4aHJrp6PVPCW"
      },
      "outputs": [],
      "source": [
        "import pandas as pd\n",
        "import numpy as np\n",
        "\n",
        "from sklearn.cluster import KMeans\n",
        "\n",
        "\n",
        "import matplotlib.pyplot as plt\n",
        "import seaborn as sns\n",
        "\n",
        "import warnings\n",
        "warnings.filterwarnings('ignore')"
      ]
    },
    {
      "cell_type": "code",
      "execution_count": null,
      "metadata": {
        "id": "YLU3VEiqVPCZ",
        "outputId": "69d2ee1e-bb07-4bd3-c9ba-4468799fbef8"
      },
      "outputs": [
        {
          "data": {
            "text/html": [
              "<div>\n",
              "<style scoped>\n",
              "    .dataframe tbody tr th:only-of-type {\n",
              "        vertical-align: middle;\n",
              "    }\n",
              "\n",
              "    .dataframe tbody tr th {\n",
              "        vertical-align: top;\n",
              "    }\n",
              "\n",
              "    .dataframe thead th {\n",
              "        text-align: right;\n",
              "    }\n",
              "</style>\n",
              "<table border=\"1\" class=\"dataframe\">\n",
              "  <thead>\n",
              "    <tr style=\"text-align: right;\">\n",
              "      <th></th>\n",
              "      <th>Country</th>\n",
              "      <th>Latitude</th>\n",
              "      <th>Longitude</th>\n",
              "      <th>Language</th>\n",
              "    </tr>\n",
              "  </thead>\n",
              "  <tbody>\n",
              "    <tr>\n",
              "      <th>0</th>\n",
              "      <td>USA</td>\n",
              "      <td>44.97</td>\n",
              "      <td>-103.77</td>\n",
              "      <td>English</td>\n",
              "    </tr>\n",
              "    <tr>\n",
              "      <th>1</th>\n",
              "      <td>Canada</td>\n",
              "      <td>62.40</td>\n",
              "      <td>-96.80</td>\n",
              "      <td>English</td>\n",
              "    </tr>\n",
              "    <tr>\n",
              "      <th>2</th>\n",
              "      <td>France</td>\n",
              "      <td>46.75</td>\n",
              "      <td>2.40</td>\n",
              "      <td>French</td>\n",
              "    </tr>\n",
              "    <tr>\n",
              "      <th>3</th>\n",
              "      <td>UK</td>\n",
              "      <td>54.01</td>\n",
              "      <td>-2.53</td>\n",
              "      <td>English</td>\n",
              "    </tr>\n",
              "    <tr>\n",
              "      <th>4</th>\n",
              "      <td>Germany</td>\n",
              "      <td>51.15</td>\n",
              "      <td>10.40</td>\n",
              "      <td>German</td>\n",
              "    </tr>\n",
              "    <tr>\n",
              "      <th>5</th>\n",
              "      <td>Australia</td>\n",
              "      <td>-25.45</td>\n",
              "      <td>133.11</td>\n",
              "      <td>English</td>\n",
              "    </tr>\n",
              "  </tbody>\n",
              "</table>\n",
              "</div>"
            ],
            "text/plain": [
              "     Country  Latitude  Longitude Language\n",
              "0        USA     44.97    -103.77  English\n",
              "1     Canada     62.40     -96.80  English\n",
              "2     France     46.75       2.40   French\n",
              "3         UK     54.01      -2.53  English\n",
              "4    Germany     51.15      10.40   German\n",
              "5  Australia    -25.45     133.11  English"
            ]
          },
          "execution_count": 3,
          "metadata": {},
          "output_type": "execute_result"
        }
      ],
      "source": [
        "df = pd.read_csv(\"Country_clusters.csv\")\n",
        "df"
      ]
    },
    {
      "cell_type": "code",
      "execution_count": null,
      "metadata": {
        "id": "ikUX6Ap8VPCe",
        "outputId": "0a6a2006-fd9e-4af5-aa68-88f23f0bccd3"
      },
      "outputs": [
        {
          "data": {
            "text/plain": [
              "'D:\\\\Datamites\\\\Certified Data Science\\\\lecture\\\\MLE-3 Kmeans'"
            ]
          },
          "execution_count": 9,
          "metadata": {},
          "output_type": "execute_result"
        }
      ],
      "source": [
        "import os\n",
        "os.getcwd()"
      ]
    },
    {
      "cell_type": "code",
      "execution_count": null,
      "metadata": {
        "id": "gnGF9bzNVPCh",
        "outputId": "fe7e8100-5dfb-4554-916c-7a3906a88cac"
      },
      "outputs": [
        {
          "data": {
            "text/html": [
              "<div>\n",
              "<style scoped>\n",
              "    .dataframe tbody tr th:only-of-type {\n",
              "        vertical-align: middle;\n",
              "    }\n",
              "\n",
              "    .dataframe tbody tr th {\n",
              "        vertical-align: top;\n",
              "    }\n",
              "\n",
              "    .dataframe thead th {\n",
              "        text-align: right;\n",
              "    }\n",
              "</style>\n",
              "<table border=\"1\" class=\"dataframe\">\n",
              "  <thead>\n",
              "    <tr style=\"text-align: right;\">\n",
              "      <th></th>\n",
              "      <th>Latitude</th>\n",
              "      <th>Longitude</th>\n",
              "    </tr>\n",
              "  </thead>\n",
              "  <tbody>\n",
              "    <tr>\n",
              "      <th>0</th>\n",
              "      <td>44.97</td>\n",
              "      <td>-103.77</td>\n",
              "    </tr>\n",
              "    <tr>\n",
              "      <th>1</th>\n",
              "      <td>62.40</td>\n",
              "      <td>-96.80</td>\n",
              "    </tr>\n",
              "    <tr>\n",
              "      <th>2</th>\n",
              "      <td>46.75</td>\n",
              "      <td>2.40</td>\n",
              "    </tr>\n",
              "    <tr>\n",
              "      <th>3</th>\n",
              "      <td>54.01</td>\n",
              "      <td>-2.53</td>\n",
              "    </tr>\n",
              "    <tr>\n",
              "      <th>4</th>\n",
              "      <td>51.15</td>\n",
              "      <td>10.40</td>\n",
              "    </tr>\n",
              "    <tr>\n",
              "      <th>5</th>\n",
              "      <td>-25.45</td>\n",
              "      <td>133.11</td>\n",
              "    </tr>\n",
              "  </tbody>\n",
              "</table>\n",
              "</div>"
            ],
            "text/plain": [
              "   Latitude  Longitude\n",
              "0     44.97    -103.77\n",
              "1     62.40     -96.80\n",
              "2     46.75       2.40\n",
              "3     54.01      -2.53\n",
              "4     51.15      10.40\n",
              "5    -25.45     133.11"
            ]
          },
          "execution_count": 4,
          "metadata": {},
          "output_type": "execute_result"
        }
      ],
      "source": [
        "x = df[['Latitude', 'Longitude']]\n",
        "x"
      ]
    },
    {
      "cell_type": "code",
      "execution_count": null,
      "metadata": {
        "id": "lhvmfp5jVPCj",
        "outputId": "d346a937-05d6-45f3-f381-316ecc0327a0"
      },
      "outputs": [
        {
          "data": {
            "text/plain": [
              "<Axes: xlabel='Latitude', ylabel='Longitude'>"
            ]
          },
          "execution_count": 13,
          "metadata": {},
          "output_type": "execute_result"
        },
        {
          "data": {
            "image/png": "[encoded data removed]",
            "text/plain": [
              "<Figure size 640x480 with 1 Axes>"
            ]
          },
          "metadata": {},
          "output_type": "display_data"
        }
      ],
      "source": [
        "sns.scatterplot(x=x['Latitude'], y=x['Longitude'])"
      ]
    },
    {
      "cell_type": "markdown",
      "metadata": {
        "id": "xBic0J5WVPCl"
      },
      "source": [
        "# model Training"
      ]
    },
    {
      "cell_type": "code",
      "execution_count": null,
      "metadata": {
        "id": "coM6KdXLVPCn",
        "outputId": "4fa3d77d-179f-406a-b449-a041aef5bc2e"
      },
      "outputs": [
        {
          "data": {
            "text/plain": [
              "array([0, 0, 1, 1, 1, 2])"
            ]
          },
          "execution_count": 16,
          "metadata": {},
          "output_type": "execute_result"
        }
      ],
      "source": [
        "kmeans_model = KMeans(n_clusters= 3, random_state=11)  # k=3\n",
        "kmeans_model.fit(x)\n",
        "\n",
        "y_pred = kmeans_model.fit_predict(x)\n",
        "y_pred"
      ]
    },
    {
      "cell_type": "code",
      "execution_count": null,
      "metadata": {
        "id": "J7EbBYarVPCo"
      },
      "outputs": [],
      "source": [
        "import warnings\n",
        "warnings.filterwarnings('ignore')"
      ]
    },
    {
      "cell_type": "raw",
      "metadata": {
        "id": "kNaI6lEVVPCp"
      },
      "source": [
        "2 datapoints >> cluster 0\n",
        "3 datapoints >> cluster 1\n",
        "1 datapoints >> cluster 2"
      ]
    },
    {
      "cell_type": "code",
      "execution_count": null,
      "metadata": {
        "id": "pXBtawVYVPCq",
        "outputId": "b25687d9-a496-4b1e-b151-d69f51310133"
      },
      "outputs": [
        {
          "data": {
            "text/plain": [
              "<matplotlib.collections.PathCollection at 0x23725d9de50>"
            ]
          },
          "execution_count": 17,
          "metadata": {},
          "output_type": "execute_result"
        },
        {
          "data": {
            "image/png": "[encoded data removed]",
            "text/plain": [
              "<Figure size 640x480 with 1 Axes>"
            ]
          },
          "metadata": {},
          "output_type": "display_data"
        }
      ],
      "source": [
        "plt.scatter(x=x['Latitude'], y=x['Longitude'], c=y_pred)"
      ]
    },
    {
      "cell_type": "code",
      "execution_count": null,
      "metadata": {
        "id": "Wpdt87DeVPCs",
        "outputId": "50377c70-dd7b-447c-e839-ac19b23b986f"
      },
      "outputs": [
        {
          "name": "stdout",
          "output_type": "stream",
          "text": [
            "[[  53.685      -100.285     ]\n",
            " [  50.63666667    3.42333333]\n",
            " [ -25.45        133.11      ]]\n"
          ]
        }
      ],
      "source": [
        "print(kmeans_model.cluster_centers_) # centroids coordianates of cluster"
      ]
    },
    {
      "cell_type": "code",
      "execution_count": null,
      "metadata": {
        "id": "6KrgwWPsVPCu"
      },
      "outputs": [],
      "source": [
        "# coordiante of centroid of cluster 0>>[  53.685      -100.285     ]   # x1+x2/2, y1+y2/2\n",
        "# coordiante of centroid of cluster 1>>[  50.63666667    3.42333333]  # a1+a2+a3/3, b1+b2+b3/3\n",
        "# coordiante of centroid of cluster 2>> [ -25.45        133.11      ]"
      ]
    },
    {
      "cell_type": "code",
      "execution_count": null,
      "metadata": {
        "id": "TKBfDfMzVPCw",
        "outputId": "af3ceaed-6db4-4512-e2db-e380367c549b"
      },
      "outputs": [
        {
          "data": {
            "text/plain": [
              "288.1052333333333"
            ]
          },
          "execution_count": 24,
          "metadata": {},
          "output_type": "execute_result"
        }
      ],
      "source": [
        "# wscc >> within cluster sum of square\n",
        "wcssk_3 = kmeans_model.inertia_\n",
        "wcssk_3"
      ]
    },
    {
      "cell_type": "code",
      "execution_count": null,
      "metadata": {
        "id": "nta3dndlVPCx",
        "outputId": "93b7980b-a7bd-4d15-c2c7-29e929db059e"
      },
      "outputs": [
        {
          "data": {
            "text/plain": [
              "42601.91356666667"
            ]
          },
          "execution_count": 25,
          "metadata": {},
          "output_type": "execute_result"
        }
      ],
      "source": [
        "# when k =1\n",
        "kmeans_modelk1 = KMeans(n_clusters=1, random_state=11)\n",
        "kmeans_modelk1.fit(x)\n",
        "wcssk_1= kmeans_modelk1.inertia_\n",
        "wcssk_1"
      ]
    },
    {
      "cell_type": "code",
      "execution_count": null,
      "metadata": {
        "id": "Blaz6FlSVPC1",
        "outputId": "a661ee68-9e26-4bab-c4f4-510340044c38"
      },
      "outputs": [
        {
          "data": {
            "text/plain": [
              "13205.758119999999"
            ]
          },
          "execution_count": 27,
          "metadata": {},
          "output_type": "execute_result"
        }
      ],
      "source": [
        "# when k =2\n",
        "kmeans_modelk2 = KMeans(n_clusters=2, random_state=11)\n",
        "kmeans_modelk2.fit(x)\n",
        "wcssk_2= kmeans_modelk2.inertia_\n",
        "wcssk_2"
      ]
    },
    {
      "cell_type": "code",
      "execution_count": null,
      "metadata": {
        "id": "wbUSO2IiVPC2",
        "outputId": "8500e002-b838-4618-c003-aee837855930"
      },
      "outputs": [
        {
          "data": {
            "text/plain": [
              "0.0"
            ]
          },
          "execution_count": 28,
          "metadata": {},
          "output_type": "execute_result"
        }
      ],
      "source": [
        "# when k =6\n",
        "kmeans_modelk6 = KMeans(n_clusters=6, random_state=11)\n",
        "kmeans_modelk6.fit(x)\n",
        "wcssk_6= kmeans_modelk6.inertia_\n",
        "wcssk_6"
      ]
    },
    {
      "cell_type": "code",
      "execution_count": null,
      "metadata": {
        "id": "bgFaA9i7VPC4",
        "outputId": "aea8bb21-ff3d-4f90-905b-70cac57fa78e"
      },
      "outputs": [
        {
          "name": "stdout",
          "output_type": "stream",
          "text": [
            "1 >> 42601.91356666667\n",
            "2 >> 13205.758119999999\n",
            "3 >> 288.1052333333333\n",
            "4 >> 111.91233333333332\n",
            "5 >> 38.50624999999998\n",
            "6 >> 0.0\n"
          ]
        }
      ],
      "source": [
        "wcss_list =[]\n",
        "k_values =range(1,7)\n",
        "for i in k_values:\n",
        "    kmeans_model = KMeans(n_clusters=i, random_state=11)\n",
        "    kmeans_model.fit(x)\n",
        "    wcss=kmeans_model.inertia_\n",
        "    wcss_list.append(wcss)\n",
        "\n",
        "    print(i, \">>\", wcss)\n"
      ]
    },
    {
      "cell_type": "code",
      "execution_count": null,
      "metadata": {
        "id": "IsAb5TrJVPC4",
        "outputId": "32ce6dab-f3cc-4f56-d608-689d9afd8876"
      },
      "outputs": [
        {
          "data": {
            "text/plain": [
              "[<matplotlib.lines.Line2D at 0x237259cef50>]"
            ]
          },
          "execution_count": 30,
          "metadata": {},
          "output_type": "execute_result"
        },
        {
          "data": {
            "image/png": "[encoded data removed]",
            "text/plain": [
              "<Figure size 640x480 with 1 Axes>"
            ]
          },
          "metadata": {},
          "output_type": "display_data"
        }
      ],
      "source": [
        "plt.plot(k_values, wcss_list)"
      ]
    },
    {
      "cell_type": "code",
      "execution_count": null,
      "metadata": {
        "id": "PlEIXDKXVPC6",
        "outputId": "afd08e74-752b-4e93-c1a2-cef5918d32d3"
      },
      "outputs": [
        {
          "data": {
            "text/plain": [
              "array([0, 0, 1, 1, 1, 2])"
            ]
          },
          "execution_count": 9,
          "metadata": {},
          "output_type": "execute_result"
        }
      ],
      "source": [
        "from sklearn.metrics import silhouette_score\n",
        "\n",
        "kmean_model = KMeans(n_clusters=3, random_state=11)\n",
        "kmean_model.fit(x)\n",
        "label = kmean_model.labels_\n",
        "label\n",
        ""
      ]
    },
    {
      "cell_type": "code",
      "execution_count": null,
      "metadata": {
        "id": "8xeBo9BUVPC6",
        "outputId": "dd076473-72f0-4948-95fa-0b1c0838a5f2"
      },
      "outputs": [
        {
          "data": {
            "text/plain": [
              "0.7232813961472381"
            ]
          },
          "execution_count": 14,
          "metadata": {},
          "output_type": "execute_result"
        }
      ],
      "source": [
        "# when k=3\n",
        "kmean_model = KMeans(n_clusters=3, random_state=11)\n",
        "kmean_model.fit(x)\n",
        "\n",
        "\n",
        "label = kmean_model.labels_\n",
        "\n",
        "\n",
        "s3 = silhouette_score(x, label)\n",
        "s3"
      ]
    },
    {
      "cell_type": "code",
      "execution_count": null,
      "metadata": {
        "id": "PZrlyNCkVPC7",
        "outputId": "b32cdcd9-8a89-4c1e-de25-8ca44e975635"
      },
      "outputs": [
        {
          "data": {
            "text/plain": [
              "0.4484580204468096"
            ]
          },
          "execution_count": 15,
          "metadata": {},
          "output_type": "execute_result"
        }
      ],
      "source": [
        "#when k=4\n",
        "kmean_model = KMeans(n_clusters=4, random_state=11)\n",
        "kmean_model.fit(x)\n",
        "\n",
        "label = kmean_model.labels_\n",
        "s4 = silhouette_score(x, label)\n",
        "s4"
      ]
    },
    {
      "cell_type": "code",
      "execution_count": null,
      "metadata": {
        "id": "Qkrw6YB2VPC9",
        "outputId": "9254b544-fb79-4d38-cb20-bf3f99a0e6a9"
      },
      "outputs": [
        {
          "name": "stdout",
          "output_type": "stream",
          "text": [
            "2 >> 0.5304645611596158\n",
            "3 >> 0.7232813961472381\n",
            "4 >> 0.4484580204468096\n",
            "5 >> 0.06268959249436608\n"
          ]
        }
      ],
      "source": [
        "from sklearn.metrics import silhouette_score\n",
        "\n",
        "sh_sc = []\n",
        "k_values = range(2,6) # 2,3,4,5   cant take >> 1, 6  >>1, & no of data points or reocrds\n",
        "\n",
        "for i in k_values:\n",
        "    kmean_model = KMeans(n_clusters= i, random_state=11)\n",
        "    kmean_model.fit(x)\n",
        "\n",
        "    ypred=kmean_model.labels_\n",
        "\n",
        "    score=silhouette_score(x, ypred)\n",
        "\n",
        "    sh_sc.append(score)\n",
        "    print(i, \">>\", score)"
      ]
    },
    {
      "cell_type": "code",
      "execution_count": null,
      "metadata": {
        "id": "IwELsQt8VPC_",
        "outputId": "63b3930a-c11b-4cbf-8178-a78975bdce66"
      },
      "outputs": [
        {
          "data": {
            "text/plain": [
              "[<matplotlib.lines.Line2D at 0x2c434504050>]"
            ]
          },
          "execution_count": 17,
          "metadata": {},
          "output_type": "execute_result"
        },
        {
          "data": {
            "image/png": "[encoded data removed]",
            "text/plain": [
              "<Figure size 640x480 with 1 Axes>"
            ]
          },
          "metadata": {},
          "output_type": "display_data"
        }
      ],
      "source": [
        "plt.plot(k_values, sh_sc)"
      ]
    },
    {
      "cell_type": "code",
      "execution_count": null,
      "metadata": {
        "id": "BiMsklPvVPDB"
      },
      "outputs": [],
      "source": []
    },
    {
      "cell_type": "markdown",
      "metadata": {
        "id": "DjhQQ2-FVPDB"
      },
      "source": [
        "# Silhoutte score\n",
        "The silhouette value is a measure of how similar\n",
        "an object is to its own cluster (cohesion) compared to other clusters (separation)"
      ]
    },
    {
      "cell_type": "markdown",
      "metadata": {
        "id": "GlZrcV5tQ5je"
      },
      "source": [
        "The range of Silhouette score is [-1, 1]. Its analysis is as follows −\n",
        "\n",
        "+1 Score − Near +1 Silhouette score indicates that the sample is far away from its neighboring cluster.\n",
        "\n",
        "0 Score − 0 Silhouette score indicates that the sample is on or very close to the decision boundary separating two neighboring clusters.\n",
        "\n",
        "-1 Score − 1 Silhouette score indicates that the samples have been assigned to the wrong clusters."
      ]
    },
    {
      "cell_type": "markdown",
      "metadata": {
        "id": "PjADNjkTQ5jg"
      },
      "source": [
        "The calculation of Silhouette score can be done by using the following formula\n",
        "\n",
        "$$silhouette score\\:=\\:(p-q)/max(p,q)$$\n",
        "\n",
        "Here, p = mean distance to the points in the nearest cluster\n",
        "          \n",
        "\n",
        "And, q = mean intra-cluster distance to all the points."
      ]
    },
    {
      "cell_type": "markdown",
      "metadata": {
        "id": "WMtuF828Q5jh"
      },
      "source": [
        "### Applications\n",
        "The scikit-learn book describes the various applications of clustering as follows:\n",
        "\n",
        "* __For customer segmentation:__ You can cluster your customers based on their purchases,their activity on your website, and so on. This is useful to understand who your customers are and what they need, so you can adapt your products and marketing campaigns to each segment. For example, this can be useful in recommender systems to suggest content that other users in the same cluster enjoyed.Subdivision of customers into groups/segments such that each customer segment consists of customers with similar market characteristics — pricing , loyalty, spending behaviors etc. Some of the segmentation variables could be e.g., number of items bought on sale, avg transaction value, total number of transactions. Customer segmentation allows businesses to customize market programs that will be suitable for each of its customer segments\n",
        "\n",
        "* __For data analysis:__ When analyzing a new dataset, it is often useful to first discover clusters of similar instances, as it is often easier to analyze clusters separately.\n",
        "\n",
        "* __Inventory Categorization based on sales or other manufacturing metrics.\n",
        "\n",
        "* __For anomaly detection (also called outlier detection):__ Any instance that has a low affinity to all the clusters is likely to be an anomaly. For example, if you have clustered the users of your website based on their behavior, you can detect users with unusual behavior, such as an unusual number of requests per second, and so on. Anomaly detection is particularly useful in detecting defects in manufacturing, or for fraud detection.\n",
        "\n",
        "\n",
        "* __For search engines:__ For example, some search engines let you search for images that are similar to a reference image. To build such a system, you would first apply a clustering algorithm to all the images in your database: similar images would end up in the same cluster. Then when a user provides a reference image, all you need to do is to find this image’s cluster using the trained clustering model, and you can then simply return all the images from this cluster.\n",
        "\n",
        "* __To segment an image:__ By clustering pixels according to their color, then replacing each pixel’s color with the mean color of its cluster, it is possible to reduce the number of different colors in the image considerably. This technique is used in many object detection and tracking systems, as it makes it easier to detect the contour of each object.\n"
      ]
    },
    {
      "cell_type": "markdown",
      "metadata": {
        "id": "bn6yrn6nQ5jj"
      },
      "source": [
        "### Assumption of K Means:\n",
        "- Clusters are spatially grouped or spherical\n",
        "- All features are scaled\n",
        "- Clusters are of similar size"
      ]
    },
    {
      "cell_type": "markdown",
      "metadata": {
        "id": "bNOZ37rQQ5jl"
      },
      "source": [
        "### Pros:\n",
        "- Works well even when some assumptions are broken\n",
        "- Simple and easy to implement\n",
        "- Easy to interpret"
      ]
    },
    {
      "cell_type": "markdown",
      "metadata": {
        "id": "mILCeElwQ5jo"
      },
      "source": [
        "### Cons:\n",
        "\n",
        "- Sensitive to outliers\n",
        "- k value has to be known before"
      ]
    },
    {
      "cell_type": "markdown",
      "metadata": {
        "id": "X4xbjZeWQ5jr"
      },
      "source": [
        "### Goal of Clustering\n",
        "\n",
        "- Distance between centroid and its point should be minimum\n",
        "- Intra-cluster distance should be less\n",
        "- Distance between intercluster should be high"
      ]
    },
    {
      "cell_type": "code",
      "execution_count": null,
      "metadata": {
        "id": "DGapdEWIQ5js"
      },
      "outputs": [],
      "source": []
    },
    {
      "cell_type": "code",
      "execution_count": null,
      "metadata": {
        "id": "oT_j-9EWQ5jt"
      },
      "outputs": [],
      "source": []
    }
  ],
  "metadata": {
    "colab": {
      "provenance": [],
      "include_colab_link": true
    },
    "kernelspec": {
      "display_name": "Python 3 (ipykernel)",
      "language": "python",
      "name": "python3"
    },
    "language_info": {
      "codemirror_mode": {
        "name": "ipython",
        "version": 3
      },
      "file_extension": ".py",
      "mimetype": "text/x-python",
      "name": "python",
      "nbconvert_exporter": "python",
      "pygments_lexer": "ipython3",
      "version": "3.11.5"
    }
  },
  "nbformat": 4,
  "nbformat_minor": 0
}